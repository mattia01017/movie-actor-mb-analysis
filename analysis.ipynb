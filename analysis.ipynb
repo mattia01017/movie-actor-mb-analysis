{
 "cells": [
  {
   "cell_type": "markdown",
   "metadata": {},
   "source": [
    "# Market-basket analysis of Letterboxd dataset"
   ]
  },
  {
   "cell_type": "code",
   "execution_count": null,
   "metadata": {},
   "outputs": [],
   "source": [
    "# setup Spark\n",
    "! apt-get install openjdk-8-jdk-headless -qq > /dev/null\n",
    "! wget -q http://archive.apache.org/dist/spark/spark-3.1.1/spark-3.1.1-bin-hadoop3.2.tgz\n",
    "! tar xf spark-3.1.1-bin-hadoop3.2.tgz\n",
    "! pip install -q findspark\n",
    "import os\n",
    "import findspark\n",
    "os.environ[\"JAVA_HOME\"] = \"/usr/lib/jvm/java-8-openjdk-amd64\"\n",
    "os.environ[\"SPARK_HOME\"] = \"/content/spark-3.1.1-bin-hadoop3.2\"\n",
    "findspark.init(\"spark-3.1.1-bin-hadoop3.2\")# SPARK_HOME\n",
    "\n",
    "# get dataset\n",
    "! kaggle datasets download -f actors.csv gsimonx37/letterboxd\n",
    "! unzip actors.csv.zip\n",
    "! rm actors.csv.zip\n",
    "\n",
    "# get whole repo if running in google colab\n",
    "! git clone https://github.com/mattia01017/movie-actor-mb-analysis\n",
    "! cd movie-actor-mb-analysis\n",
    "! pip install -r requirements.txt"
   ]
  },
  {
   "cell_type": "code",
   "execution_count": null,
   "metadata": {},
   "outputs": [],
   "source": [
    "from dotenv import load_dotenv\n",
    "from pyspark.sql import SparkSession\n",
    "\n",
    "load_dotenv()\n",
    "spark = SparkSession.builder\\\n",
    "    .appName(\"movie-actor-mb-analysis\")\\\n",
    "    .getOrCreate() "
   ]
  },
  {
   "cell_type": "markdown",
   "metadata": {},
   "source": [
    "The first step is to import the dataset from the CSV file. To get a convenient representation of data for the market-basket analysis, data will be stored as key-value pairs, where the keys are the film identifiers and the values are the lists of actors that worked in the film."
   ]
  },
  {
   "cell_type": "code",
   "execution_count": null,
   "metadata": {},
   "outputs": [],
   "source": [
    "df = spark.read.csv(\"actors.csv\", header=True, sep=\",\", mode=\"DROPMALFORMED\")\n",
    "baskets = df.rdd\\\n",
    "    .map(lambda x: (x[\"id\"], x[\"name\"]))\\\n",
    "    .groupByKey()"
   ]
  }
 ],
 "metadata": {
  "kernelspec": {
   "display_name": "venv",
   "language": "python",
   "name": "python3"
  },
  "language_info": {
   "codemirror_mode": {
    "name": "ipython",
    "version": 3
   },
   "file_extension": ".py",
   "mimetype": "text/x-python",
   "name": "python",
   "nbconvert_exporter": "python",
   "pygments_lexer": "ipython3",
   "version": "3.13.0"
  }
 },
 "nbformat": 4,
 "nbformat_minor": 2
}
